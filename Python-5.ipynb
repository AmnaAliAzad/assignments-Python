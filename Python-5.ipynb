{
 "cells": [
  {
   "cell_type": "code",
   "execution_count": 2,
   "id": "b7a1ced0",
   "metadata": {},
   "outputs": [
    {
     "data": {
      "text/plain": [
       "dict"
      ]
     },
     "execution_count": 2,
     "metadata": {},
     "output_type": "execute_result"
    }
   ],
   "source": [
    "#1.What does an empty dictionary's code look like?\n",
    "#Ans: An empty dictionary is often represented by two empty curly brackets\n",
    "#d = {} or d = dict()\n",
    "dict = {}\n",
    "type(dict)"
   ]
  },
  {
   "cell_type": "code",
   "execution_count": 4,
   "id": "aadde88b",
   "metadata": {},
   "outputs": [
    {
     "data": {
      "text/plain": [
       "{'foo': 42}"
      ]
     },
     "execution_count": 4,
     "metadata": {},
     "output_type": "execute_result"
    }
   ],
   "source": [
    "#2.what is the value of dictionary value with key 'foo' and the value 42 ?\n",
    "#Ans: {'foo':42}\n",
    "{'foo':42}"
   ]
  },
  {
   "cell_type": "markdown",
   "id": "eb9bbaff",
   "metadata": {},
   "source": [
    "# 3.What is the most significant distinction between a dictionary and a list?\n",
    "\n",
    "Ans: Dictionaries - represented by {} and items stored in it are unodered\n",
    "     \n",
    "     list-  represented by [] and items in a list are ordered\n",
    "\n",
    "# 4.What happens if you try to access spam ['foo'] if spam is {'bar':100} ?\n",
    "\n",
    "Ans: we will get a keyError KeyError: 'foo'\n",
    "\n",
    "# 5.if a dictionary is stored in spam,what is the difference between the expressions 'cat' in spam and 'cat' in spam.keys() ?\n",
    "\n",
    "Ans: There is no difference . The operator checks whether a value exits as a key in the dictionary or not\n",
    "\n",
    "# 6.if a dictionary is stored in spam,what is the difference between the expressions 'cat' in spam and 'cat' in spam.values() ?\n",
    "\n",
    "Ans:'cat' in spam checks whether there is a 'cat' key in the dictionary, while 'cat' in spam.values() checks whether there is a value 'cat' for one of the keys in spam.\n",
    "\n",
    "# 7.what is a shortcut for the following code ?\n",
    "if 'color' not in spam: spam['color'] ='black'\n",
    "\n",
    "Ans: spam.setdefault('color','black')"
   ]
  },
  {
   "cell_type": "markdown",
   "id": "d9857fec",
   "metadata": {},
   "source": [
    "# 8.How do you 'pretty print' dictionary values using which modules and function ?\n",
    "Ans: pprint.pprint()"
   ]
  },
  {
   "cell_type": "code",
   "execution_count": null,
   "id": "f1415db4",
   "metadata": {},
   "outputs": [],
   "source": []
  }
 ],
 "metadata": {
  "kernelspec": {
   "display_name": "Python 3",
   "language": "python",
   "name": "python3"
  },
  "language_info": {
   "codemirror_mode": {
    "name": "ipython",
    "version": 3
   },
   "file_extension": ".py",
   "mimetype": "text/x-python",
   "name": "python",
   "nbconvert_exporter": "python",
   "pygments_lexer": "ipython3",
   "version": "3.8.8"
  }
 },
 "nbformat": 4,
 "nbformat_minor": 5
}
