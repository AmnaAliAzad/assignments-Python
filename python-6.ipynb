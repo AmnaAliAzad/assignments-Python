{
 "cells": [
  {
   "cell_type": "markdown",
   "id": "c7fff822",
   "metadata": {},
   "source": [
    "# 1. What are escape characters, and how do you use them?\n",
    "\n",
    "Ans:\n",
    "In Python strings, the backslash \\ is  called the \"escape\" character. \n",
    "It is used in representing certain whitespace characters:\n",
    "    \"\\t\" is a tab, \"\\n\" is a newline, and \"\\r\" is a carriage return\n",
    "\n",
    "# 2. What do the escape characters n and t stand for?\n",
    "\n",
    "Ans: \"\\t\" is a tab, \"\\n\" is a newline\n",
    "\n",
    "# 3. What is the way to include backslash characters in a string?\n",
    "Ans: Ans: The \\\\ escape character will represent the backslash character in a string"
   ]
  },
  {
   "cell_type": "code",
   "execution_count": 2,
   "id": "35fd8dc4",
   "metadata": {},
   "outputs": [
    {
     "name": "stdout",
     "output_type": "stream",
     "text": [
      "its a back slash\\ \n"
     ]
    }
   ],
   "source": [
    "print('its a back slash\\\\ ')"
   ]
  },
  {
   "cell_type": "markdown",
   "id": "7e92a62c",
   "metadata": {},
   "source": [
    "# 4. 4.The string \"Howl's Moving Castle\" is a correct value. Why isn't the single quote character in the word Howl's not escaped a problem ?\n",
    "\n",
    "Ans: The string \"Howl's Moving Castle\" escaped the problem because it is wrapped inside double quotes. if its wrapped inside single quotes then we have to use escape character \\' to show single quote in the final output\n",
    "'Howl\\'s Moving Castle' -> 'Howl's Moving Castle'"
   ]
  }
 ],
 "metadata": {
  "kernelspec": {
   "display_name": "Python 3",
   "language": "python",
   "name": "python3"
  },
  "language_info": {
   "codemirror_mode": {
    "name": "ipython",
    "version": 3
   },
   "file_extension": ".py",
   "mimetype": "text/x-python",
   "name": "python",
   "nbconvert_exporter": "python",
   "pygments_lexer": "ipython3",
   "version": "3.8.8"
  }
 },
 "nbformat": 4,
 "nbformat_minor": 5
}
