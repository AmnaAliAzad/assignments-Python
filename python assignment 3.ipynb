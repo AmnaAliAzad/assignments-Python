{
 "cells": [
  {
   "cell_type": "markdown",
   "id": "0306318c",
   "metadata": {},
   "source": [
    "1. Why are functions advantageous to have in your programs?\n",
    "Ans:\n",
    "Advantages of functions are:\n",
    "\n",
    "Increase modularity. Reduces the need of duplicate code.\n",
    "Increase code reusibility\n",
    "Reduce amount of code. This makes programs shorter, easier to read, and easier to update\n",
    "\n",
    "2. When does the code in a function run: when it's specified or when it's called?\n",
    "Ans:\n",
    "The function run(or execute) when it is called, and  not when the function is specified.\n",
    "\n",
    "3. What statement creates a function?\n",
    "Ans:\n",
    "def(keyword) followed by function_name then parentheses.\n",
    "def function_name():"
   ]
  },
  {
   "cell_type": "code",
   "execution_count": 4,
   "id": "cc0a7d44",
   "metadata": {},
   "outputs": [
    {
     "data": {
      "text/plain": [
       "25"
      ]
     },
     "execution_count": 4,
     "metadata": {},
     "output_type": "execute_result"
    }
   ],
   "source": [
    "'''4. What is the difference between a function and a function call?\n",
    "Ans:\n",
    "Function: Function is set of codes which produce some result. Function is useless unless it is invoked or called.\n",
    "Function Call: Function call is used to invoke or execute set of codes present inside the function.'''\n",
    "def fun(a):        # Function\n",
    "    b=5*a\n",
    "    return b\n",
    "\n",
    "fun(5)             # Function call\n"
   ]
  },
  {
   "cell_type": "markdown",
   "id": "798019fe",
   "metadata": {},
   "source": [
    "5. How many global scopes are there in a Python program? How many local scopes?\n",
    "\n",
    "Ans:\n",
    "There are 1 global scopes and 1 local scope in the python program.\n",
    "\n",
    "6. What happens to variables in a local scope when the function call returns?\n",
    "\n",
    "Ans:\n",
    "The local variables are destroyed when function call returns.\n",
    "\n",
    "7. What is the concept of a return value? Is it possible to have a return value in an expression?\n",
    "\n",
    "Ans:\n",
    "Return value is value, varible or expression which a function can return.Yes function return value can be an expression\n"
   ]
  },
  {
   "cell_type": "code",
   "execution_count": 6,
   "id": "8fbb6fe6",
   "metadata": {},
   "outputs": [
    {
     "data": {
      "text/plain": [
       "22"
      ]
     },
     "execution_count": 6,
     "metadata": {},
     "output_type": "execute_result"
    }
   ],
   "source": [
    "\n",
    "def Add(a,b):\n",
    "    return a+b  ## Returning the expression\n",
    "\n",
    "Add(10, 12)\n"
   ]
  },
  {
   "cell_type": "markdown",
   "id": "0838d85b",
   "metadata": {},
   "source": [
    "8. If a function does not have a return statement, what is the return value of a call to that function?\n",
    " \n",
    "Ans:\n",
    "If a function does not have a return statement that means the function is not returning any values.\n",
    "\n",
    "\n",
    "In this case after function is executed completly it will return a NoneType."
   ]
  },
  {
   "cell_type": "code",
   "execution_count": 9,
   "id": "3884aaf3",
   "metadata": {},
   "outputs": [
    {
     "data": {
      "text/plain": [
       "NoneType"
      ]
     },
     "execution_count": 9,
     "metadata": {},
     "output_type": "execute_result"
    }
   ],
   "source": [
    "def X():\n",
    "    a = 2\n",
    "    b = 8\n",
    "    \n",
    "type(X())\n"
   ]
  },
  {
   "cell_type": "markdown",
   "id": "bbc8bc6f",
   "metadata": {},
   "source": [
    "9. How do you make a function variable refer to the global variable?\n",
    "\n",
    "Ans:\n",
    "This can be achieved by using global keyword to redefine the variable and make the changes of variable as global change.\n"
   ]
  },
  {
   "cell_type": "code",
   "execution_count": 12,
   "id": "be3eb9a7",
   "metadata": {},
   "outputs": [
    {
     "name": "stdout",
     "output_type": "stream",
     "text": [
      "10\n",
      "100\n"
     ]
    }
   ],
   "source": [
    "var1 = 10\n",
    "def fun():\n",
    "    global var1\n",
    "    var1 = 100\n",
    "    \n",
    "print(var1)\n",
    "fun()\n",
    "print(var1)"
   ]
  },
  {
   "cell_type": "markdown",
   "id": "c776c912",
   "metadata": {},
   "source": [
    "10. What is the data type of None?\n",
    "Ans:\n",
    "None data type is a null variable or null object. The null object is a data type of class NoneType."
   ]
  },
  {
   "cell_type": "markdown",
   "id": "a7f6946d",
   "metadata": {},
   "source": [
    "11. What does the sentence import areallyourpetsnamederic do?\n",
    "Ans:\n",
    "The statement \"import areallyourpetsnamederic\" will import the module or package areallyourpetsnamederic.\n",
    "\n",
    "12. If you had a bacon() feature in a spam module, what would you call it after importing spam?\n",
    "Ans:\n",
    "After import the spam.\n",
    "spam.bacon()"
   ]
  },
  {
   "cell_type": "code",
   "execution_count": 13,
   "id": "175fa4db",
   "metadata": {},
   "outputs": [],
   "source": [
    "'''13. What can you do to save a programme from crashing if it encounters an error?\n",
    "Ans:\n",
    "To save the program from crashing over a runtime error we can use the try and except statement.\n",
    "\n",
    "\n",
    "It will save from only the runtime error not the compile time error.'''\n",
    "try:\n",
    "    pass\n",
    "except:\n",
    "    pass"
   ]
  },
  {
   "cell_type": "markdown",
   "id": "a5a39d96",
   "metadata": {},
   "source": [
    "14. What is the purpose of the try clause? What is the purpose of the except clause?\n",
    "\n",
    "Ans:\n",
    "Together try and except block is used to save programme from crashing when an error is encountered.\n",
    "Try: Try block is used for any suspicious code which can throw a runtime error.\n",
    "Except: Except block is used to catch error if any encountered inside try block."
   ]
  },
  {
   "cell_type": "code",
   "execution_count": null,
   "id": "7a94c968",
   "metadata": {},
   "outputs": [],
   "source": []
  }
 ],
 "metadata": {
  "kernelspec": {
   "display_name": "Python 3",
   "language": "python",
   "name": "python3"
  },
  "language_info": {
   "codemirror_mode": {
    "name": "ipython",
    "version": 3
   },
   "file_extension": ".py",
   "mimetype": "text/x-python",
   "name": "python",
   "nbconvert_exporter": "python",
   "pygments_lexer": "ipython3",
   "version": "3.8.8"
  }
 },
 "nbformat": 4,
 "nbformat_minor": 5
}
