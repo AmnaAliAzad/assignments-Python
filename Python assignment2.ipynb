{
 "cells": [
  {
   "cell_type": "markdown",
   "id": "1a3ec48a",
   "metadata": {},
   "source": [
    "1. What are the two values of the Boolean data type? How do you write them?\n",
    "\n",
    "Ans: Two values of the Boolean data type are True and False. They are written as:\n",
    "True\n",
    "False\n",
    "\n",
    "2. What are the three different types of Boolean operators?\n",
    "Ans: There different types of Boolean operators are:\n",
    "\n",
    "AND\n",
    "OR\n",
    "NOT\n",
    "\n",
    "3. Make a list of each Boolean operator's truth tables (i.e. every possible combination of Boolean\n",
    "   values for the operator and what it evaluate ).\n",
    "  Ans:"
   ]
  },
  {
   "cell_type": "code",
   "execution_count": 32,
   "id": "845f2e65",
   "metadata": {},
   "outputs": [
    {
     "name": "stdout",
     "output_type": "stream",
     "text": [
      "Possible Combination of And Operator: \n",
      " True and True= True \n",
      "True and False= False \n",
      "False and True= False \n",
      "False and False= False\n",
      "Possible Combination of Or Operator: \n",
      " True or True= True \n",
      "True or False= True \n",
      "False or True= True \n",
      "False or False= False\n",
      "Possible Combination of Not Operator: \n",
      "  Not True= False \n",
      " Not False= True \n",
      "\n"
     ]
    }
   ],
   "source": [
    "\n",
    "print(\"Possible Combination of And Operator:\",\"\\n\",\"True and True=\", True and True ,\"\\n\" \n",
    "    \"True and False=\", True and False,\"\\n\" \n",
    "    \"False and True=\", False and True,\"\\n\" \n",
    "    \"False and False=\", False and False )\n",
    "print(\"Possible Combination of Or Operator:\",\"\\n\",\"True or True=\", True or True ,\"\\n\" \n",
    "    \"True or False=\", True or False,\"\\n\" \n",
    "    \"False or True=\", False or True,\"\\n\" \n",
    "    \"False or False=\", False or False )\n",
    "print(\"Possible Combination of Not Operator:\",\"\\n\", \n",
    "    \" Not True=\",  not True,\"\\n\" \n",
    "    \" Not False=\",  not False,\"\\n\" \n",
    "    )\n"
   ]
  },
  {
   "cell_type": "markdown",
   "id": "475d8ba0",
   "metadata": {},
   "source": [
    "4. What are the values of the following expressions?\n",
    "(5 > 4) and (3 == 5)                   = False\n",
    "2. not (5 > 4)                            = False\n",
    "3. (5 > 4) or (3 == 5)                    = True\n",
    "4. not ((5 > 4) or (3 == 5))              = False \n",
    "5. (True and True) and (True == False)    = False\n",
    "6. (not False) or (not True)              = True  \n"
   ]
  },
  {
   "cell_type": "code",
   "execution_count": 36,
   "id": "e17c26b0",
   "metadata": {},
   "outputs": [
    {
     "name": "stdout",
     "output_type": "stream",
     "text": [
      "False \n",
      " False \n",
      " True \n",
      " False \n",
      " False \n",
      " True\n"
     ]
    }
   ],
   "source": [
    "print((5 > 4) and (3 == 5),\"\\n\",\n",
    "      not (5 > 4),\"\\n\",\n",
    "      (5 > 4) or (3 == 5),\"\\n\",\n",
    "      not ((5 > 4) or (3 == 5)),\"\\n\",\n",
    "      (True and True) and (True == False),\"\\n\",\n",
    "      (not False) or (not True)\n",
    "     )"
   ]
  },
  {
   "cell_type": "markdown",
   "id": "c0aa196c",
   "metadata": {},
   "source": [
    "5. What are the six comparison operators?\n",
    "Ans: The 6 comparision operator are:\n",
    "1. \"==\" : is equal to,\n",
    "2. \"!= \": is not equal to,\n",
    "3. \"> \": is greater than,\n",
    "4. \">\" = : is greater than or equal to,\n",
    "5.\" < \": is less than,\n",
    "6.\" <=\" : is less than or equal to,"
   ]
  },
  {
   "cell_type": "markdown",
   "id": "5f90e04f",
   "metadata": {},
   "source": [
    "6. How do you tell the difference between the equal to and assignment operators?Describe a\n",
    "   condition and when you would use one.\n",
    "Ans: ' = ' :  used for the assignment operation(storing a value to a variable).\n",
    "' == ' : used for comparing one value to other.\n",
    "\n"
   ]
  },
  {
   "cell_type": "code",
   "execution_count": 45,
   "id": "9e7fcc70",
   "metadata": {},
   "outputs": [
    {
     "name": "stdout",
     "output_type": "stream",
     "text": [
      "a= 5\n",
      "a==5= True\n",
      "a==3= False\n"
     ]
    }
   ],
   "source": [
    "a=5 #assigning value\n",
    "print(\"a=\",5)\n",
    "print(\"a==5=\",a==5) #comparing values\n",
    "print(\"a==3=\",a==3)"
   ]
  },
  {
   "cell_type": "markdown",
   "id": "e1648152",
   "metadata": {},
   "source": [
    "7. Identify the three blocks in this code:\n",
    "spam = 0\n",
    "if spam == 10:\n",
    "print('eggs')\n",
    "if spam > 5:\n",
    "print('bacon')\n",
    "else:\n",
    "print('ham')\n",
    "print('spam')\n",
    "print('spam')\n",
    "\n",
    "ans:\n"
   ]
  },
  {
   "cell_type": "code",
   "execution_count": 46,
   "id": "fe5f85ed",
   "metadata": {},
   "outputs": [
    {
     "name": "stdout",
     "output_type": "stream",
     "text": [
      "ham\n",
      "spam\n",
      "spam\n"
     ]
    }
   ],
   "source": [
    "spam = 0\n",
    "\n",
    "if spam == 10:  # Block 1\n",
    "    print('eggs')\n",
    "    \n",
    "if spam > 5:    # Block 2\n",
    "    print('bacon')\n",
    "else:           # Block 3\n",
    "    print('ham')\n",
    "    \n",
    "print('spam')\n",
    "print('spam')"
   ]
  },
  {
   "cell_type": "markdown",
   "id": "d3c000fa",
   "metadata": {},
   "source": [
    "8. Write code that prints Hello if 1 is stored in spam, prints Howdy if 2 is stored in spam, and prints Greetings! if anything else is stored in spam.\n",
    "Code:\n",
    "spam = 1\n",
    "\n"
   ]
  },
  {
   "cell_type": "code",
   "execution_count": 53,
   "id": "0e2ccada",
   "metadata": {},
   "outputs": [
    {
     "name": "stdout",
     "output_type": "stream",
     "text": [
      "Hello\n",
      "Howdy\n",
      "Greetings!\n"
     ]
    }
   ],
   "source": [
    "def spam(s):\n",
    "    if s == 1:\n",
    "        print('Hello')\n",
    "    elif s == 2:\n",
    "        print('Howdy')\n",
    "    else:\n",
    "        print('Greetings!')\n",
    "        \n",
    "spam(1)\n",
    "spam(2)\n",
    "spam(10)"
   ]
  },
  {
   "cell_type": "markdown",
   "id": "8aa5b2e1",
   "metadata": {},
   "source": [
    "9.If your programme is stuck in an endless loop, what keys you’ll press?\n",
    "\n",
    " Ans: There are 2 ways to end an endless loop:\n",
    " \n",
    " Press Ctrl + C.\n",
    "\n",
    "Restart the kernal"
   ]
  },
  {
   "cell_type": "markdown",
   "id": "34a988b6",
   "metadata": {},
   "source": [
    "10. How can you tell the difference between break and continue?\n",
    "\n",
    "Ans:\n",
    "\n",
    "Break: It is used to break the loop and exit from the loop and move to the execution outside the loop.\n",
    "\n",
    "continue: The continue keyword is used to end the current iteration in a for loop (or a while loop), and continues to the next iteration."
   ]
  },
  {
   "cell_type": "markdown",
   "id": "60da5579",
   "metadata": {},
   "source": [
    "11. In a for loop, what is the difference between range(10), range(0, 10), and range(0, 10, 1)?\n",
    "ans:\n",
    "There is no difference\n",
    "\n"
   ]
  },
  {
   "cell_type": "code",
   "execution_count": 107,
   "id": "1848f926",
   "metadata": {},
   "outputs": [
    {
     "name": "stdout",
     "output_type": "stream",
     "text": [
      "range(10):\n",
      "0 1 2 3 4 5 6 7 8 9 \n",
      "\n",
      "range(0,10):\n",
      "0 1 2 3 4 5 6 7 8 9 \n",
      "\n",
      "range(0,10,1):\n",
      "0 1 2 3 4 5 6 7 8 9 "
     ]
    }
   ],
   "source": [
    "print(\"range(10):\")\n",
    "for i in range(10):\n",
    "    print(i,end=' ')\n",
    "print(\"\\n\")\n",
    "print(\"range(0,10):\")\n",
    "for j in range(0, 10):\n",
    "    print(j, end = ' ')\n",
    "print(\"\\n\")\n",
    "print(\"range(0,10,1):\")\n",
    "for i in range(0, 10, 1):\n",
    "    print(i, end = ' ')\n",
    "    \n",
    "\n",
    " \n",
    "\n"
   ]
  },
  {
   "cell_type": "markdown",
   "id": "194a1aa2",
   "metadata": {},
   "source": [
    "12. Write a short program that prints the numbers 1 to 10 using a for loop. \n",
    "    Then write an equivalent program that prints the numbers 1 to 10 using a while loop."
   ]
  },
  {
   "cell_type": "code",
   "execution_count": 100,
   "id": "b2c81641",
   "metadata": {},
   "outputs": [
    {
     "name": "stdout",
     "output_type": "stream",
     "text": [
      "1 2 3 4 5 6 7 8 9 10 "
     ]
    }
   ],
   "source": [
    "for i in range(1,11):\n",
    "    print(i,end=\" \")\n"
   ]
  },
  {
   "cell_type": "code",
   "execution_count": 109,
   "id": "7821cd23",
   "metadata": {},
   "outputs": [
    {
     "name": "stdout",
     "output_type": "stream",
     "text": [
      "1 2 3 4 5 6 7 8 9 10 "
     ]
    }
   ],
   "source": [
    "i = 1\n",
    "while i <= 10:\n",
    "    print(i, end = ' ')\n",
    "    i += 1"
   ]
  },
  {
   "cell_type": "markdown",
   "id": "1331b25d",
   "metadata": {},
   "source": [
    "13. If you had a function named bacon() inside a module named spam, how would you call it after importing spam?\n",
    "\n",
    "Ans:\n",
    "\n",
    "import spam\n",
    "\n",
    "spam.bacon()"
   ]
  },
  {
   "cell_type": "code",
   "execution_count": null,
   "id": "8e0a6bbf",
   "metadata": {},
   "outputs": [],
   "source": []
  }
 ],
 "metadata": {
  "kernelspec": {
   "display_name": "Python 3",
   "language": "python",
   "name": "python3"
  },
  "language_info": {
   "codemirror_mode": {
    "name": "ipython",
    "version": 3
   },
   "file_extension": ".py",
   "mimetype": "text/x-python",
   "name": "python",
   "nbconvert_exporter": "python",
   "pygments_lexer": "ipython3",
   "version": "3.8.8"
  }
 },
 "nbformat": 4,
 "nbformat_minor": 5
}
